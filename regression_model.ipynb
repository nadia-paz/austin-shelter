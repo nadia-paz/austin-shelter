{
 "cells": [
  {
   "cell_type": "code",
   "execution_count": 2,
   "id": "4a9a10b6",
   "metadata": {},
   "outputs": [],
   "source": [
    "import pandas as pd\n",
    "import numpy as np\n",
    "\n",
    "\n",
    "from sklearn.preprocessing import  PolynomialFeatures\n",
    "from sklearn.feature_selection import RFE\n",
    "from sklearn.metrics import mean_squared_error, explained_variance_score\n",
    "\n",
    "from sklearn.model_selection import train_test_split\n",
    "from sklearn.preprocessing import StandardScaler\n",
    "\n",
    "import xgboost as xgb\n",
    "\n",
    "# linear regressions\n",
    "from sklearn.linear_model import LinearRegression, LassoLars, TweedieRegressor, Ridge\n",
    "\n",
    "# non-linear regressions\n",
    "from sklearn.tree import DecisionTreeRegressor\n",
    "from sklearn.ensemble import RandomForestRegressor, GradientBoostingRegressor\n",
    "\n",
    "import src.wrangle as wr\n",
    "\n",
    "############## GLOBAL VARIABLES ###########\n",
    "seed = 2912 # random seed for random_states\n",
    "\n",
    "# load shelter data\n",
    "df = wr.get_shelter_data()\n",
    "# create dummies for categorical variables\n",
    "df = wr.dummies(df)\n",
    "# drop unneeded columns\n",
    "df.drop(columns=['age_in_days', 'times_in_shelter', 'mixed_breed', 'domestic_breed', 'pitbull', 'outcome_type'], \n",
    "        inplace=True)\n",
    "\n",
    "# split the data\n",
    "train_validate, test = train_test_split(df, test_size=0.2, \n",
    "                                        random_state=seed)\n",
    "train, validate = train_test_split(train_validate, test_size=0.3, \n",
    "                                   random_state=seed)\n",
    "\n",
    "X_train = train.iloc[:, :-1].copy()\n",
    "X_validate = validate.iloc[:, :-1].copy()\n",
    "X_test = test.iloc[:, :-1].copy()\n",
    "# scale age_on_check_in columns with the standard scaler\n",
    "scaler = StandardScaler()\n",
    "X_train[['age_on_check_in']] = scaler.fit_transform(X_train[['age_on_check_in']])\n",
    "X_validate[['age_on_check_in']] = scaler.transform(X_validate[['age_on_check_in']])\n",
    "X_test[['age_on_check_in']] = scaler.transform(X_test[['age_on_check_in']])\n",
    "# target variable for train, validate and test sets\n",
    "y_train = train.iloc[:, -1:].copy()\n",
    "y_validate = validate.iloc[:, -1:].copy()\n",
    "y_test = test.iloc[:, -1:].copy()\n",
    "\n",
    "# baseline 65.729545164 days\n",
    "baseline = y_train.mean()[0]"
   ]
  },
  {
   "cell_type": "code",
   "execution_count": 3,
   "id": "4572962b",
   "metadata": {},
   "outputs": [
    {
     "data": {
      "text/plain": [
       "65.72954516405865"
      ]
     },
     "execution_count": 3,
     "metadata": {},
     "output_type": "execute_result"
    }
   ],
   "source": [
    "baseline"
   ]
  },
  {
   "cell_type": "code",
   "execution_count": 4,
   "id": "0d9c1c62",
   "metadata": {},
   "outputs": [],
   "source": [
    "predictions_train = y_train.copy()\n",
    "predictions_validate = y_validate.copy()\n",
    "predictions_train['baseline'] = baseline\n",
    "predictions_validate['baseline'] = baseline"
   ]
  },
  {
   "cell_type": "code",
   "execution_count": 11,
   "id": "df0dce70",
   "metadata": {},
   "outputs": [],
   "source": [
    "parameters = {'max_depth'         : [4,6,8],\n",
    "              'max_features' : [3, 4, 5],\n",
    "              'min_samples_leaf'    : [1, 2, 3]\n",
    "             }"
   ]
  },
  {
   "cell_type": "code",
   "execution_count": 12,
   "id": "bc2cfb76",
   "metadata": {},
   "outputs": [],
   "source": [
    "from sklearn.model_selection import GridSearchCV"
   ]
  },
  {
   "cell_type": "code",
   "execution_count": 15,
   "id": "9e8ba1b5",
   "metadata": {},
   "outputs": [],
   "source": [
    "rf = RandomForestRegressor(random_state=seed)\n",
    "grid = GridSearchCV(estimator=rf, param_grid=parameters, cv=2, n_jobs=-1)"
   ]
  },
  {
   "cell_type": "code",
   "execution_count": 23,
   "id": "a2e9c8f8",
   "metadata": {},
   "outputs": [],
   "source": [
    "y = y_train.values.reshape(len(y_train))"
   ]
  },
  {
   "cell_type": "code",
   "execution_count": 29,
   "id": "01ed0a1c",
   "metadata": {},
   "outputs": [],
   "source": [
    "y_val = y_validate.values.reshape(len(y_validate))"
   ]
  },
  {
   "cell_type": "code",
   "execution_count": 24,
   "id": "933e0666",
   "metadata": {},
   "outputs": [
    {
     "data": {
      "text/plain": [
       "GridSearchCV(cv=2, estimator=RandomForestRegressor(random_state=2912),\n",
       "             n_jobs=-1,\n",
       "             param_grid={'max_depth': [4, 6, 8], 'max_features': [3, 4, 5],\n",
       "                         'min_samples_leaf': [1, 2, 3]})"
      ]
     },
     "execution_count": 24,
     "metadata": {},
     "output_type": "execute_result"
    }
   ],
   "source": [
    "grid.fit(X_train, y)"
   ]
  },
  {
   "cell_type": "code",
   "execution_count": 25,
   "id": "6d4126be",
   "metadata": {},
   "outputs": [
    {
     "data": {
      "text/plain": [
       "{'max_depth': 8, 'max_features': 5, 'min_samples_leaf': 3}"
      ]
     },
     "execution_count": 25,
     "metadata": {},
     "output_type": "execute_result"
    }
   ],
   "source": [
    "grid.best_params_"
   ]
  },
  {
   "cell_type": "code",
   "execution_count": 27,
   "id": "623369da",
   "metadata": {},
   "outputs": [],
   "source": [
    "# DataFrame to keep model's evaluations\n",
    "scores = pd.DataFrame(columns=['model_name', 'RMSE_train', 'R2_train', 'RMSE_validate', \n",
    "                               'R2_validate', 'RMSE_difference'])\n",
    "\n",
    "# create a dictionary of regression models\n",
    "models = {\n",
    "    'Linear Regression': LinearRegression(),\n",
    "    'Generalized Linear Model': TweedieRegressor(power=2, alpha = 0.5),\n",
    "    'Gradient Boosting Regression': GradientBoostingRegressor(random_state=seed),\n",
    "    'Decision Tree Regression': DecisionTreeRegressor(max_depth=8, max_features=5, min_samples_leaf=3, random_state=seed),\n",
    "    'Random Forest Regression':RandomForestRegressor(max_depth=8, max_features=5, min_samples_leaf=3, random_state=seed),\n",
    "    'LassoLars Regression':LassoLars(alpha=0.1)\n",
    "    }"
   ]
  },
  {
   "cell_type": "code",
   "execution_count": 28,
   "id": "585fa087",
   "metadata": {},
   "outputs": [],
   "source": [
    "def regression_errors(y_actual:pd.Series, y_predicted:pd.Series):\n",
    "    '''\n",
    "    this function accepts \n",
    "    y: actual results/array\n",
    "    yhat: predictions/array\n",
    "    k: feature size/integer\n",
    "    calculates regression scores based on the baseline being median\n",
    "    returns RMSE and adjacted R2\n",
    "    '''\n",
    "    # root mean squared error score\n",
    "    RMSE = mean_squared_error(y_actual, y_predicted) ** .5\n",
    "    # adjucted R^2 score\n",
    "    ADJR2 = explained_variance_score(y_actual, y_predicted)\n",
    "    return round(RMSE), round(ADJR2, 2)"
   ]
  },
  {
   "cell_type": "code",
   "execution_count": 7,
   "id": "7e3b1e8a",
   "metadata": {},
   "outputs": [
    {
     "data": {
      "text/plain": [
       "array([ 6, 57,  5, ..., 71, 11,  6])"
      ]
     },
     "execution_count": 7,
     "metadata": {},
     "output_type": "execute_result"
    }
   ],
   "source": [
    "y_train.values.ravel()"
   ]
  },
  {
   "cell_type": "code",
   "execution_count": 30,
   "id": "22233fe9",
   "metadata": {},
   "outputs": [
    {
     "name": "stderr",
     "output_type": "stream",
     "text": [
      "/usr/local/anaconda3/lib/python3.9/site-packages/sklearn/linear_model/_base.py:133: FutureWarning: The default of 'normalize' will be set to False in version 1.2 and deprecated in version 1.4.\n",
      "If you wish to scale the data, use Pipeline with a StandardScaler in a preprocessing stage. To reproduce the previous behavior:\n",
      "\n",
      "from sklearn.pipeline import make_pipeline\n",
      "\n",
      "model = make_pipeline(StandardScaler(with_mean=False), LassoLars())\n",
      "\n",
      "If you wish to pass a sample_weight parameter, you need to pass it as a fit parameter to each step of the pipeline as follows:\n",
      "\n",
      "kwargs = {s[0] + '__sample_weight': sample_weight for s in model.steps}\n",
      "model.fit(X, y, **kwargs)\n",
      "\n",
      "Set parameter alpha to: original_alpha * np.sqrt(n_samples). \n",
      "  warnings.warn(\n"
     ]
    }
   ],
   "source": [
    "for key in models:\n",
    "    # create a model\n",
    "    model = models[key]\n",
    "    # fit the model\n",
    "    model.fit(X_train, y)\n",
    "    # predictions of the train set\n",
    "    y_hat_train = model.predict(X_train)\n",
    "    # predictions of the validate set\n",
    "    y_hat_validate = model.predict(X_validate)\n",
    "    # add train set predictions to the data frame\n",
    "    predictions_train[key] = y_hat_train\n",
    "    # add validate set predictions to the data frame\n",
    "    predictions_validate[key] = y_hat_validate\n",
    "\n",
    "    # calculate scores train set\n",
    "    RMSE, R2 = regression_errors(y_train, y_hat_train)\n",
    "    # calculate scores validation set\n",
    "    RMSE_val, R2_val = regression_errors(y_validate, y_hat_validate)\n",
    "    diff = np.abs(RMSE - RMSE_val)\n",
    "\n",
    "    # add the score results to the scores Data Frame\n",
    "    scores.loc[len(scores.index)] = [key, RMSE, R2, RMSE_val, R2_val, diff]"
   ]
  },
  {
   "cell_type": "code",
   "execution_count": 31,
   "id": "4b075258",
   "metadata": {},
   "outputs": [
    {
     "data": {
      "text/html": [
       "<div>\n",
       "<style scoped>\n",
       "    .dataframe tbody tr th:only-of-type {\n",
       "        vertical-align: middle;\n",
       "    }\n",
       "\n",
       "    .dataframe tbody tr th {\n",
       "        vertical-align: top;\n",
       "    }\n",
       "\n",
       "    .dataframe thead th {\n",
       "        text-align: right;\n",
       "    }\n",
       "</style>\n",
       "<table border=\"1\" class=\"dataframe\">\n",
       "  <thead>\n",
       "    <tr style=\"text-align: right;\">\n",
       "      <th></th>\n",
       "      <th>model_name</th>\n",
       "      <th>RMSE_train</th>\n",
       "      <th>R2_train</th>\n",
       "      <th>RMSE_validate</th>\n",
       "      <th>R2_validate</th>\n",
       "      <th>RMSE_difference</th>\n",
       "    </tr>\n",
       "  </thead>\n",
       "  <tbody>\n",
       "    <tr>\n",
       "      <th>0</th>\n",
       "      <td>Linear Regression</td>\n",
       "      <td>207</td>\n",
       "      <td>0.02</td>\n",
       "      <td>199</td>\n",
       "      <td>0.02</td>\n",
       "      <td>8</td>\n",
       "    </tr>\n",
       "    <tr>\n",
       "      <th>1</th>\n",
       "      <td>Generalized Linear Model</td>\n",
       "      <td>207</td>\n",
       "      <td>0.01</td>\n",
       "      <td>199</td>\n",
       "      <td>0.01</td>\n",
       "      <td>8</td>\n",
       "    </tr>\n",
       "    <tr>\n",
       "      <th>2</th>\n",
       "      <td>Gradient Boosting Regression</td>\n",
       "      <td>204</td>\n",
       "      <td>0.05</td>\n",
       "      <td>198</td>\n",
       "      <td>0.03</td>\n",
       "      <td>6</td>\n",
       "    </tr>\n",
       "    <tr>\n",
       "      <th>3</th>\n",
       "      <td>Decision Tree Regression</td>\n",
       "      <td>206</td>\n",
       "      <td>0.03</td>\n",
       "      <td>199</td>\n",
       "      <td>0.02</td>\n",
       "      <td>7</td>\n",
       "    </tr>\n",
       "    <tr>\n",
       "      <th>4</th>\n",
       "      <td>Random Forest Regression</td>\n",
       "      <td>205</td>\n",
       "      <td>0.03</td>\n",
       "      <td>198</td>\n",
       "      <td>0.03</td>\n",
       "      <td>7</td>\n",
       "    </tr>\n",
       "    <tr>\n",
       "      <th>5</th>\n",
       "      <td>LassoLars Regression</td>\n",
       "      <td>209</td>\n",
       "      <td>0.00</td>\n",
       "      <td>201</td>\n",
       "      <td>0.00</td>\n",
       "      <td>8</td>\n",
       "    </tr>\n",
       "  </tbody>\n",
       "</table>\n",
       "</div>"
      ],
      "text/plain": [
       "                     model_name  RMSE_train  R2_train  RMSE_validate  \\\n",
       "0             Linear Regression         207      0.02            199   \n",
       "1      Generalized Linear Model         207      0.01            199   \n",
       "2  Gradient Boosting Regression         204      0.05            198   \n",
       "3      Decision Tree Regression         206      0.03            199   \n",
       "4      Random Forest Regression         205      0.03            198   \n",
       "5          LassoLars Regression         209      0.00            201   \n",
       "\n",
       "   R2_validate  RMSE_difference  \n",
       "0         0.02                8  \n",
       "1         0.01                8  \n",
       "2         0.03                6  \n",
       "3         0.02                7  \n",
       "4         0.03                7  \n",
       "5         0.00                8  "
      ]
     },
     "execution_count": 31,
     "metadata": {},
     "output_type": "execute_result"
    }
   ],
   "source": [
    "scores"
   ]
  },
  {
   "cell_type": "code",
   "execution_count": 32,
   "id": "712ca98e",
   "metadata": {},
   "outputs": [],
   "source": [
    "RMSE_baseline, _ = regression_errors(y_train, predictions_train['baseline'])"
   ]
  },
  {
   "cell_type": "code",
   "execution_count": 33,
   "id": "51f434ac",
   "metadata": {},
   "outputs": [
    {
     "data": {
      "text/plain": [
       "209"
      ]
     },
     "execution_count": 33,
     "metadata": {},
     "output_type": "execute_result"
    }
   ],
   "source": [
    "RMSE_baseline"
   ]
  },
  {
   "cell_type": "markdown",
   "id": "339e99ed",
   "metadata": {},
   "source": [
    "Using XBoost"
   ]
  },
  {
   "cell_type": "code",
   "execution_count": 11,
   "id": "cd57767d",
   "metadata": {},
   "outputs": [],
   "source": [
    "data_dmatrix = xgb.DMatrix(data=X_train,label=y_train)"
   ]
  },
  {
   "cell_type": "code",
   "execution_count": 13,
   "id": "a863a179",
   "metadata": {},
   "outputs": [],
   "source": [
    "xg_reg = xgb.XGBRegressor(objective ='reg:squarederror', colsample_bytree = 0.3, learning_rate = 0.1,\n",
    "                max_depth = 9, alpha = 10, n_estimators = 10, random_state=seed)"
   ]
  },
  {
   "cell_type": "code",
   "execution_count": 14,
   "id": "0f5b9913",
   "metadata": {},
   "outputs": [
    {
     "data": {
      "text/plain": [
       "XGBRegressor(alpha=10, base_score=None, booster=None, callbacks=None,\n",
       "             colsample_bylevel=None, colsample_bynode=None,\n",
       "             colsample_bytree=0.3, early_stopping_rounds=None,\n",
       "             enable_categorical=False, eval_metric=None, feature_types=None,\n",
       "             gamma=None, gpu_id=None, grow_policy=None, importance_type=None,\n",
       "             interaction_constraints=None, learning_rate=0.1, max_bin=None,\n",
       "             max_cat_threshold=None, max_cat_to_onehot=None,\n",
       "             max_delta_step=None, max_depth=9, max_leaves=None,\n",
       "             min_child_weight=None, missing=nan, monotone_constraints=None,\n",
       "             n_estimators=10, n_jobs=None, num_parallel_tree=None,\n",
       "             predictor=None, ...)"
      ]
     },
     "execution_count": 14,
     "metadata": {},
     "output_type": "execute_result"
    }
   ],
   "source": [
    "xg_reg"
   ]
  },
  {
   "cell_type": "code",
   "execution_count": 69,
   "id": "f4fbb535",
   "metadata": {},
   "outputs": [],
   "source": [
    "xg_reg.fit(X_train,y_train)\n",
    "\n",
    "predictions_train['xboost'] = xg_reg.predict(X_train)\n",
    "predictions_validate['xboost'] = xg_reg.predict(X_validate)\n",
    "RMSE, R2 = regression_errors(y_train, predictions_train['xboost'])\n",
    "RMSE_val, R2_val = regression_errors(y_validate, predictions_validate['xboost'])"
   ]
  },
  {
   "cell_type": "code",
   "execution_count": 65,
   "id": "b2bc924d",
   "metadata": {},
   "outputs": [],
   "source": [
    "scores.loc[len(scores.index)] = ['xboost', RMSE, R2, RMSE_val, R2_val, np.abs(RMSE - RMSE_val)]"
   ]
  },
  {
   "cell_type": "code",
   "execution_count": 70,
   "id": "56f449fd",
   "metadata": {},
   "outputs": [
    {
     "data": {
      "text/html": [
       "<div>\n",
       "<style scoped>\n",
       "    .dataframe tbody tr th:only-of-type {\n",
       "        vertical-align: middle;\n",
       "    }\n",
       "\n",
       "    .dataframe tbody tr th {\n",
       "        vertical-align: top;\n",
       "    }\n",
       "\n",
       "    .dataframe thead th {\n",
       "        text-align: right;\n",
       "    }\n",
       "</style>\n",
       "<table border=\"1\" class=\"dataframe\">\n",
       "  <thead>\n",
       "    <tr style=\"text-align: right;\">\n",
       "      <th></th>\n",
       "      <th>model_name</th>\n",
       "      <th>RMSE_train</th>\n",
       "      <th>R2_train</th>\n",
       "      <th>RMSE_validate</th>\n",
       "      <th>R2_validate</th>\n",
       "      <th>RMSE_difference</th>\n",
       "    </tr>\n",
       "  </thead>\n",
       "  <tbody>\n",
       "    <tr>\n",
       "      <th>0</th>\n",
       "      <td>Linear Regression</td>\n",
       "      <td>207</td>\n",
       "      <td>0.02</td>\n",
       "      <td>199</td>\n",
       "      <td>0.02</td>\n",
       "      <td>8</td>\n",
       "    </tr>\n",
       "    <tr>\n",
       "      <th>1</th>\n",
       "      <td>Generalized Linear Model</td>\n",
       "      <td>207</td>\n",
       "      <td>0.01</td>\n",
       "      <td>199</td>\n",
       "      <td>0.01</td>\n",
       "      <td>8</td>\n",
       "    </tr>\n",
       "    <tr>\n",
       "      <th>2</th>\n",
       "      <td>Gradient Boosting Regression</td>\n",
       "      <td>204</td>\n",
       "      <td>0.05</td>\n",
       "      <td>198</td>\n",
       "      <td>0.03</td>\n",
       "      <td>6</td>\n",
       "    </tr>\n",
       "    <tr>\n",
       "      <th>3</th>\n",
       "      <td>Decision Tree Regression</td>\n",
       "      <td>202</td>\n",
       "      <td>0.06</td>\n",
       "      <td>200</td>\n",
       "      <td>0.01</td>\n",
       "      <td>2</td>\n",
       "    </tr>\n",
       "    <tr>\n",
       "      <th>4</th>\n",
       "      <td>Random Forest Regression</td>\n",
       "      <td>200</td>\n",
       "      <td>0.08</td>\n",
       "      <td>198</td>\n",
       "      <td>0.02</td>\n",
       "      <td>2</td>\n",
       "    </tr>\n",
       "    <tr>\n",
       "      <th>5</th>\n",
       "      <td>LassoLars Regression</td>\n",
       "      <td>209</td>\n",
       "      <td>0.00</td>\n",
       "      <td>201</td>\n",
       "      <td>0.00</td>\n",
       "      <td>8</td>\n",
       "    </tr>\n",
       "    <tr>\n",
       "      <th>6</th>\n",
       "      <td>xboost</td>\n",
       "      <td>208</td>\n",
       "      <td>0.02</td>\n",
       "      <td>200</td>\n",
       "      <td>0.02</td>\n",
       "      <td>8</td>\n",
       "    </tr>\n",
       "    <tr>\n",
       "      <th>7</th>\n",
       "      <td>xboost</td>\n",
       "      <td>206</td>\n",
       "      <td>0.03</td>\n",
       "      <td>200</td>\n",
       "      <td>0.02</td>\n",
       "      <td>6</td>\n",
       "    </tr>\n",
       "  </tbody>\n",
       "</table>\n",
       "</div>"
      ],
      "text/plain": [
       "                     model_name  RMSE_train  R2_train  RMSE_validate  \\\n",
       "0             Linear Regression         207      0.02            199   \n",
       "1      Generalized Linear Model         207      0.01            199   \n",
       "2  Gradient Boosting Regression         204      0.05            198   \n",
       "3      Decision Tree Regression         202      0.06            200   \n",
       "4      Random Forest Regression         200      0.08            198   \n",
       "5          LassoLars Regression         209      0.00            201   \n",
       "6                        xboost         208      0.02            200   \n",
       "7                        xboost         206      0.03            200   \n",
       "\n",
       "   R2_validate  RMSE_difference  \n",
       "0         0.02                8  \n",
       "1         0.01                8  \n",
       "2         0.03                6  \n",
       "3         0.01                2  \n",
       "4         0.02                2  \n",
       "5         0.00                8  \n",
       "6         0.02                8  \n",
       "7         0.02                6  "
      ]
     },
     "execution_count": 70,
     "metadata": {},
     "output_type": "execute_result"
    }
   ],
   "source": [
    "scores"
   ]
  },
  {
   "cell_type": "markdown",
   "id": "45e75f56",
   "metadata": {},
   "source": [
    "Cross Validation"
   ]
  },
  {
   "cell_type": "code",
   "execution_count": 73,
   "id": "7a070b09",
   "metadata": {},
   "outputs": [],
   "source": [
    "params = {\"objective\":\"reg:squarederror\",'colsample_bytree': 0.3,'learning_rate': 0.1,\n",
    "                'max_depth': 5, 'alpha': 10}\n",
    "\n",
    "cv_results = xgb.cv(dtrain=data_dmatrix, params=params, nfold=3,\n",
    "                    num_boost_round=10,early_stopping_rounds=10,metrics=\"rmse\", as_pandas=True, seed=seed)"
   ]
  },
  {
   "cell_type": "code",
   "execution_count": 74,
   "id": "0a203e38",
   "metadata": {},
   "outputs": [
    {
     "data": {
      "text/html": [
       "<div>\n",
       "<style scoped>\n",
       "    .dataframe tbody tr th:only-of-type {\n",
       "        vertical-align: middle;\n",
       "    }\n",
       "\n",
       "    .dataframe tbody tr th {\n",
       "        vertical-align: top;\n",
       "    }\n",
       "\n",
       "    .dataframe thead th {\n",
       "        text-align: right;\n",
       "    }\n",
       "</style>\n",
       "<table border=\"1\" class=\"dataframe\">\n",
       "  <thead>\n",
       "    <tr style=\"text-align: right;\">\n",
       "      <th></th>\n",
       "      <th>train-rmse-mean</th>\n",
       "      <th>train-rmse-std</th>\n",
       "      <th>test-rmse-mean</th>\n",
       "      <th>test-rmse-std</th>\n",
       "    </tr>\n",
       "  </thead>\n",
       "  <tbody>\n",
       "    <tr>\n",
       "      <th>0</th>\n",
       "      <td>216.412724</td>\n",
       "      <td>0.751989</td>\n",
       "      <td>216.412946</td>\n",
       "      <td>1.547365</td>\n",
       "    </tr>\n",
       "    <tr>\n",
       "      <th>1</th>\n",
       "      <td>214.645984</td>\n",
       "      <td>0.653727</td>\n",
       "      <td>214.666007</td>\n",
       "      <td>1.607458</td>\n",
       "    </tr>\n",
       "    <tr>\n",
       "      <th>2</th>\n",
       "      <td>213.152936</td>\n",
       "      <td>0.778213</td>\n",
       "      <td>213.217121</td>\n",
       "      <td>1.483278</td>\n",
       "    </tr>\n",
       "    <tr>\n",
       "      <th>3</th>\n",
       "      <td>211.910046</td>\n",
       "      <td>0.763406</td>\n",
       "      <td>212.001631</td>\n",
       "      <td>1.459918</td>\n",
       "    </tr>\n",
       "    <tr>\n",
       "      <th>4</th>\n",
       "      <td>210.805956</td>\n",
       "      <td>0.874056</td>\n",
       "      <td>210.978982</td>\n",
       "      <td>1.373945</td>\n",
       "    </tr>\n",
       "    <tr>\n",
       "      <th>5</th>\n",
       "      <td>209.944468</td>\n",
       "      <td>0.979937</td>\n",
       "      <td>210.188448</td>\n",
       "      <td>1.334245</td>\n",
       "    </tr>\n",
       "    <tr>\n",
       "      <th>6</th>\n",
       "      <td>209.266064</td>\n",
       "      <td>0.928816</td>\n",
       "      <td>209.531559</td>\n",
       "      <td>1.364966</td>\n",
       "    </tr>\n",
       "    <tr>\n",
       "      <th>7</th>\n",
       "      <td>208.711648</td>\n",
       "      <td>0.849016</td>\n",
       "      <td>208.994859</td>\n",
       "      <td>1.426287</td>\n",
       "    </tr>\n",
       "    <tr>\n",
       "      <th>8</th>\n",
       "      <td>208.199038</td>\n",
       "      <td>0.808358</td>\n",
       "      <td>208.521026</td>\n",
       "      <td>1.430801</td>\n",
       "    </tr>\n",
       "    <tr>\n",
       "      <th>9</th>\n",
       "      <td>207.750048</td>\n",
       "      <td>0.706129</td>\n",
       "      <td>208.125624</td>\n",
       "      <td>1.486516</td>\n",
       "    </tr>\n",
       "  </tbody>\n",
       "</table>\n",
       "</div>"
      ],
      "text/plain": [
       "   train-rmse-mean  train-rmse-std  test-rmse-mean  test-rmse-std\n",
       "0       216.412724        0.751989      216.412946       1.547365\n",
       "1       214.645984        0.653727      214.666007       1.607458\n",
       "2       213.152936        0.778213      213.217121       1.483278\n",
       "3       211.910046        0.763406      212.001631       1.459918\n",
       "4       210.805956        0.874056      210.978982       1.373945\n",
       "5       209.944468        0.979937      210.188448       1.334245\n",
       "6       209.266064        0.928816      209.531559       1.364966\n",
       "7       208.711648        0.849016      208.994859       1.426287\n",
       "8       208.199038        0.808358      208.521026       1.430801\n",
       "9       207.750048        0.706129      208.125624       1.486516"
      ]
     },
     "execution_count": 74,
     "metadata": {},
     "output_type": "execute_result"
    }
   ],
   "source": [
    "cv_results"
   ]
  },
  {
   "cell_type": "markdown",
   "id": "b31fe887",
   "metadata": {},
   "source": [
    "Feature importance"
   ]
  },
  {
   "cell_type": "code",
   "execution_count": 78,
   "id": "34913d78",
   "metadata": {},
   "outputs": [
    {
     "data": {
      "image/png": "[encoded data removed]",
      "text/plain": [
       "<Figure size 360x360 with 1 Axes>"
      ]
     },
     "metadata": {
      "needs_background": "light"
     },
     "output_type": "display_data"
    }
   ],
   "source": [
    "import matplotlib.pyplot as plt\n",
    "xgb.plot_importance(xg_reg)\n",
    "plt.rcParams['figure.figsize'] = [10, 7]\n",
    "plt.show()"
   ]
  },
  {
   "cell_type": "markdown",
   "id": "a196b9c8",
   "metadata": {},
   "source": [
    "Cat Boost"
   ]
  },
  {
   "cell_type": "code",
   "execution_count": 80,
   "id": "c71b2294",
   "metadata": {},
   "outputs": [],
   "source": [
    "from catboost import CatBoostRegressor"
   ]
  },
  {
   "cell_type": "code",
   "execution_count": 82,
   "id": "d193cf55",
   "metadata": {},
   "outputs": [],
   "source": [
    "cbr = CatBoostRegressor()"
   ]
  },
  {
   "cell_type": "code",
   "execution_count": 1,
   "id": "d7be63f5",
   "metadata": {},
   "outputs": [
    {
     "name": "stdout",
     "output_type": "stream",
     "text": [
      "Object `cbr` not found.\n"
     ]
    }
   ],
   "source": [
    "cbr?"
   ]
  },
  {
   "cell_type": "code",
   "execution_count": 83,
   "id": "864997b1",
   "metadata": {},
   "outputs": [],
   "source": [
    "parameters = {'depth'         : [6,8,10],\n",
    "              'learning_rate' : [0.01, 0.05, 0.1],\n",
    "              'iterations'    : [30, 50, 100]\n",
    "             }"
   ]
  },
  {
   "cell_type": "code",
   "execution_count": null,
   "id": "b63c4b37",
   "metadata": {},
   "outputs": [],
   "source": []
  }
 ],
 "metadata": {
  "kernelspec": {
   "display_name": "Python 3 (ipykernel)",
   "language": "python",
   "name": "python3"
  },
  "language_info": {
   "codemirror_mode": {
    "name": "ipython",
    "version": 3
   },
   "file_extension": ".py",
   "mimetype": "text/x-python",
   "name": "python",
   "nbconvert_exporter": "python",
   "pygments_lexer": "ipython3",
   "version": "3.9.12"
  }
 },
 "nbformat": 4,
 "nbformat_minor": 5
}
